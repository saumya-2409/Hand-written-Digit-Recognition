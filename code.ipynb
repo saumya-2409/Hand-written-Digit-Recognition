{
 "cells": [
  {
   "cell_type": "code",
   "execution_count": 1,
   "id": "78ddd2fd-ae53-4274-86ce-77def846c109",
   "metadata": {},
   "outputs": [
    {
     "name": "stdout",
     "output_type": "stream",
     "text": [
      "Requirement already satisfied: opendatasets in c:\\users\\acer\\anaconda3\\lib\\site-packages (0.1.22)\n",
      "Requirement already satisfied: tqdm in c:\\users\\acer\\anaconda3\\lib\\site-packages (from opendatasets) (4.65.0)\n",
      "Requirement already satisfied: kaggle in c:\\users\\acer\\anaconda3\\lib\\site-packages (from opendatasets) (1.6.12)\n",
      "Requirement already satisfied: click in c:\\users\\acer\\anaconda3\\lib\\site-packages (from opendatasets) (8.1.7)\n",
      "Requirement already satisfied: colorama in c:\\users\\acer\\anaconda3\\lib\\site-packages (from click->opendatasets) (0.4.6)\n",
      "Requirement already satisfied: six>=1.10 in c:\\users\\acer\\anaconda3\\lib\\site-packages (from kaggle->opendatasets) (1.16.0)\n",
      "Requirement already satisfied: certifi>=2023.7.22 in c:\\users\\acer\\anaconda3\\lib\\site-packages (from kaggle->opendatasets) (2024.2.2)\n",
      "Requirement already satisfied: python-dateutil in c:\\users\\acer\\anaconda3\\lib\\site-packages (from kaggle->opendatasets) (2.8.2)\n",
      "Requirement already satisfied: requests in c:\\users\\acer\\anaconda3\\lib\\site-packages (from kaggle->opendatasets) (2.31.0)\n",
      "Requirement already satisfied: python-slugify in c:\\users\\acer\\anaconda3\\lib\\site-packages (from kaggle->opendatasets) (5.0.2)\n",
      "Requirement already satisfied: urllib3 in c:\\users\\acer\\anaconda3\\lib\\site-packages (from kaggle->opendatasets) (2.0.7)\n",
      "Requirement already satisfied: bleach in c:\\users\\acer\\anaconda3\\lib\\site-packages (from kaggle->opendatasets) (4.1.0)\n",
      "Requirement already satisfied: packaging in c:\\users\\acer\\anaconda3\\lib\\site-packages (from bleach->kaggle->opendatasets) (23.1)\n",
      "Requirement already satisfied: webencodings in c:\\users\\acer\\anaconda3\\lib\\site-packages (from bleach->kaggle->opendatasets) (0.5.1)\n",
      "Requirement already satisfied: text-unidecode>=1.3 in c:\\users\\acer\\anaconda3\\lib\\site-packages (from python-slugify->kaggle->opendatasets) (1.3)\n",
      "Requirement already satisfied: charset-normalizer<4,>=2 in c:\\users\\acer\\anaconda3\\lib\\site-packages (from requests->kaggle->opendatasets) (2.0.4)\n",
      "Requirement already satisfied: idna<4,>=2.5 in c:\\users\\acer\\anaconda3\\lib\\site-packages (from requests->kaggle->opendatasets) (3.4)\n"
     ]
    }
   ],
   "source": [
    "!pip install opendatasets"
   ]
  },
  {
   "cell_type": "code",
   "execution_count": 2,
   "id": "eea82d04-541f-4e59-8f87-7d35e2d25bb7",
   "metadata": {},
   "outputs": [],
   "source": [
    "import opendatasets as od"
   ]
  },
  {
   "cell_type": "code",
   "execution_count": 3,
   "id": "b1bae460-4a55-4a7f-8f07-8fa7d74181bc",
   "metadata": {},
   "outputs": [],
   "source": [
    "dataset='https://www.kaggle.com/competitions/digit-recognizer/data'"
   ]
  },
  {
   "cell_type": "code",
   "execution_count": 4,
   "id": "24f495c0-fccf-4b24-8ed2-52b58ba50475",
   "metadata": {},
   "outputs": [
    {
     "name": "stdout",
     "output_type": "stream",
     "text": [
      "Skipping, found downloaded files in \".\\digit-recognizer\" (use force=True to force download)\n"
     ]
    }
   ],
   "source": [
    "od.download(dataset)"
   ]
  },
  {
   "cell_type": "code",
   "execution_count": 5,
   "id": "c720839d-1a07-4208-a304-3c7b2368a9f0",
   "metadata": {},
   "outputs": [],
   "source": [
    "import os"
   ]
  },
  {
   "cell_type": "code",
   "execution_count": 6,
   "id": "5c5ce977-4bfb-4190-8020-a99fc7241b76",
   "metadata": {},
   "outputs": [],
   "source": [
    "data_dir='.\\digit-recognizer'"
   ]
  },
  {
   "cell_type": "code",
   "execution_count": 7,
   "id": "e86767ac-f5c1-4994-892c-2b9e51e592ac",
   "metadata": {},
   "outputs": [
    {
     "data": {
      "text/plain": [
       "['sample_submission.csv', 'test.csv', 'train.csv']"
      ]
     },
     "execution_count": 7,
     "metadata": {},
     "output_type": "execute_result"
    }
   ],
   "source": [
    "os.listdir(data_dir)"
   ]
  },
  {
   "cell_type": "code",
   "execution_count": 8,
   "id": "41e913f9-4392-4c31-8de5-dfcf18178f72",
   "metadata": {},
   "outputs": [],
   "source": [
    "import pandas as pd\n",
    "import numpy as np\n",
    "import matplotlib.pyplot as plt\n",
    "from scipy.io import loadmat\n",
    "from sklearn.ensemble import RandomForestClassifier\n",
    "from sklearn.model_selection import train_test_split\n",
    "from sklearn.metrics import accuracy_score\n",
    "from sklearn.metrics import mean_absolute_error"
   ]
  },
  {
   "cell_type": "code",
   "execution_count": 9,
   "id": "cb2b39f6-b33d-4794-ad62-a661bfcf2746",
   "metadata": {},
   "outputs": [],
   "source": [
    "#Load training and test data \n",
    "train = pd.read_csv('train.csv')\n",
    "x=train.drop(columns=['label'])\n",
    "y=train['label']"
   ]
  },
  {
   "cell_type": "code",
   "execution_count": 10,
   "id": "ab83623a-6eb7-4e2b-a3dd-561491a1e4ec",
   "metadata": {},
   "outputs": [
    {
     "name": "stdout",
     "output_type": "stream",
     "text": [
      "Applying Random Forest Claasifier:\n",
      "training...\n",
      "training complete...\n",
      "5 Accuracy =  0.91\n",
      "training...\n",
      "training complete...\n",
      "10 Accuracy =  0.94\n",
      "training...\n",
      "training complete...\n",
      "20 Accuracy =  0.95\n",
      "training...\n",
      "training complete...\n",
      "50 Accuracy =  0.96\n",
      "training...\n",
      "training complete...\n",
      "100 Accuracy =  0.96\n"
     ]
    }
   ],
   "source": [
    "x_train,x_test,y_train,y_test =train_test_split(x,y,test_size=0.20)\n",
    "print(\"Applying Random Forest Claasifier:\")\n",
    "n_ests=[5,10,20,50,100]\n",
    "for n in n_ests:\n",
    "    rfc=RandomForestClassifier(n_estimators=n)\n",
    "    print ('training...')\n",
    "    rfc.fit(x_train,y_train)\n",
    "    print ('training complete...')\n",
    "    pred=rfc.predict(x_test)\n",
    "    score=accuracy_score(pred,y_test)\n",
    "    print(n,\"Accuracy = \",round(score,2))"
   ]
  },
  {
   "cell_type": "code",
   "execution_count": 11,
   "id": "dbcb45ab-8ed1-4ffe-bac6-107669f6b343",
   "metadata": {},
   "outputs": [
    {
     "name": "stdout",
     "output_type": "stream",
     "text": [
      "Accuracy =  0.96\n"
     ]
    }
   ],
   "source": [
    "pred=rfc.predict(x_test)\n",
    "score=accuracy_score(pred,y_test)\n",
    "print(\"Accuracy = \",round(score,2))"
   ]
  },
  {
   "cell_type": "code",
   "execution_count": 12,
   "id": "4cebe073-6442-4159-bcd8-245c50d9c170",
   "metadata": {},
   "outputs": [
    {
     "name": "stdout",
     "output_type": "stream",
     "text": [
      "0.1275\n"
     ]
    }
   ],
   "source": [
    "print((mean_absolute_error(y_test,pred)))"
   ]
  },
  {
   "cell_type": "code",
   "execution_count": null,
   "id": "d87cca28-276e-440e-967f-4773212708b2",
   "metadata": {},
   "outputs": [],
   "source": []
  }
 ],
 "metadata": {
  "kernelspec": {
   "display_name": "Python 3 (ipykernel)",
   "language": "python",
   "name": "python3"
  },
  "language_info": {
   "codemirror_mode": {
    "name": "ipython",
    "version": 3
   },
   "file_extension": ".py",
   "mimetype": "text/x-python",
   "name": "python",
   "nbconvert_exporter": "python",
   "pygments_lexer": "ipython3",
   "version": "3.11.7"
  }
 },
 "nbformat": 4,
 "nbformat_minor": 5
}
